{
 "cells": [
  {
   "cell_type": "code",
   "execution_count": 1,
   "id": "da8add7f",
   "metadata": {},
   "outputs": [
    {
     "name": "stdout",
     "output_type": "stream",
     "text": [
      "Execution Time: 119.31214809417725 seconds\n"
     ]
    }
   ],
   "source": [
    "import logging\n",
    "import warnings\n",
    "import time\n",
    "import numpy as np\n",
    "import gc\n",
    "from concurrent.futures import ProcessPoolExecutor\n",
    "from comparison_models import *\n",
    "from perturb_experiment_helper import *\n",
    "\n",
    "logging.getLogger('tensorflow').setLevel(logging.ERROR)\n",
    "warnings.filterwarnings('ignore')\n",
    "\n",
    "start_time = time.time()\n",
    "\n",
    "max_num_trials = 2\n",
    "trial_chunks = 2\n",
    "\n",
    "if __name__ == \"__main__\":\n",
    "    optimizers = ['adam', 'sgd']\n",
    "    pseudorehearsals = [True, False]\n",
    "    input_dimensions = [x for x in range(1,2)]\n",
    "    trial_numbers = list(range(max_num_trials))\n",
    "\n",
    "    # Split the trial_numbers into 3 roughly equal parts\n",
    "    subsets_of_trials = np.array_split(trial_numbers, trial_chunks)\n",
    "\n",
    "    for trial_subset in subsets_of_trials:\n",
    "        all_experiments = []\n",
    "\n",
    "        # Create all combinations of parameters\n",
    "        for trial in trial_subset:\n",
    "            for optimizer in optimizers:\n",
    "                for use_pseudorehearsal in pseudorehearsals:\n",
    "                    for input_dimension in input_dimensions:\n",
    "                        experiment_params = (trial, input_dimension, 20, 128, use_pseudorehearsal, \"mse\", optimizer, 0)\n",
    "                        all_experiments.append(experiment_params)\n",
    "\n",
    "        # Execute all experiments in parallel\n",
    "        with ProcessPoolExecutor() as executor:\n",
    "            executor.map(perturbation_experiment, *zip(*all_experiments))\n",
    "\n",
    "        # Cleanup to save memory\n",
    "        del all_experiments\n",
    "        gc.collect()\n",
    "\n",
    "    for optimizer in optimizers:\n",
    "        for use_pseudorehearsal in pseudorehearsals:\n",
    "            for input_dimension in input_dimensions:\n",
    "                load_and_save_data(input_dim=input_dimension,\n",
    "                                   use_pseudorehearsal=use_pseudorehearsal,\n",
    "                                   optimizer=optimizer,\n",
    "                                   trials=max_num_trials,\n",
    "                                   num_models=19)\n",
    "\n",
    "    print(f\"Execution Time: {time.time() - start_time} seconds\")\n"
   ]
  },
  {
   "cell_type": "code",
   "execution_count": 2,
   "id": "a5ef99f8",
   "metadata": {},
   "outputs": [],
   "source": []
  },
  {
   "cell_type": "code",
   "execution_count": 3,
   "id": "d2e3b5d7",
   "metadata": {},
   "outputs": [
    {
     "name": "stdout",
     "output_type": "stream",
     "text": [
      "Execution Time: 118.38385725021362 seconds\n"
     ]
    }
   ],
   "source": [
    "\n",
    "\n",
    "print(f\"Execution Time: {time.time() - start_time} seconds\")\n"
   ]
  },
  {
   "cell_type": "code",
   "execution_count": 12,
   "id": "a644075c",
   "metadata": {},
   "outputs": [],
   "source": [
    "#max_num_trials = 6\n",
    "\n",
    "for optimizer in optimizers:\n",
    "    for use_pseudorehearsal in pseudorehearsals:\n",
    "        for input_dimension in input_dimensions:\n",
    "            load_and_save_data(input_dim=input_dimension,\n",
    "                               use_pseudorehearsal=use_pseudorehearsal,\n",
    "                               optimizer=optimizer,\n",
    "                               trials=max_num_trials,\n",
    "                              num_models=19)"
   ]
  },
  {
   "cell_type": "code",
   "execution_count": null,
   "id": "377d572a",
   "metadata": {},
   "outputs": [],
   "source": []
  },
  {
   "cell_type": "code",
   "execution_count": null,
   "id": "eb018fef",
   "metadata": {},
   "outputs": [],
   "source": []
  },
  {
   "cell_type": "code",
   "execution_count": null,
   "id": "3431aa87",
   "metadata": {},
   "outputs": [],
   "source": []
  },
  {
   "cell_type": "code",
   "execution_count": null,
   "id": "f7d40111",
   "metadata": {},
   "outputs": [],
   "source": []
  },
  {
   "cell_type": "code",
   "execution_count": null,
   "id": "88934462",
   "metadata": {},
   "outputs": [],
   "source": [
    "\n",
    "\n",
    "for optimizer in optimizers:\n",
    "    for use_pseudorehearsal in pseudorehearsals:\n",
    "        for input_dimension in input_dimensions:\n",
    "            load_and_save_data(input_dim=input_dimension,\n",
    "                               use_pseudorehearsal=use_pseudorehearsal,\n",
    "                               optimizer=optimizer,\n",
    "                               trials=max_num_trials,\n",
    "                              num_models=20)\n",
    "                    \n",
    "                    \n",
    "for trial_num in range(1, number_of_trials): # Iterate over partition numbers using a for-loop\n",
    "    input_dim_combinations = [(input_dim, trial_num, optimizers, pseudorehearsals) \n",
    "                              for input_dim in range(1, 7)]\n",
    "    print(input_dim_combinations)\n",
    "\n",
    "    all_experiments = []\n",
    "    for combo in input_dim_combinations:\n",
    "        all_experiments.extend(prepare_experiments(combo))\n",
    "\n",
    "    # Execute all experiments for the given partition in parallel\n",
    "    with ProcessPoolExecutor() as executor:\n",
    "        executor.map(wrapper, all_experiments)\n",
    "\n",
    "    # Aggregate results after all experiments for the given partition have run\n",
    "    for combo in input_dim_combinations:\n",
    "        input_dim, _, _, _ = combo\n",
    "\n",
    "        # Loop through optimizers and pseudorehearsals to call the `load_and_save_data` for each combination\n",
    "        for optimizer in optimizers:\n",
    "            for use_pseudorehearsal in pseudorehearsals:\n",
    "                load_and_save_data(input_dim=input_dim, \n",
    "                                   optimizer=optimizer, \n",
    "                                   use_pseudorehearsal=use_pseudorehearsal, \n",
    "                                   trials=number_of_trials, \n",
    "                                   num_models=18)"
   ]
  }
 ],
 "metadata": {
  "kernelspec": {
   "display_name": "Python 3 (ipykernel)",
   "language": "python",
   "name": "python3"
  },
  "language_info": {
   "codemirror_mode": {
    "name": "ipython",
    "version": 3
   },
   "file_extension": ".py",
   "mimetype": "text/x-python",
   "name": "python",
   "nbconvert_exporter": "python",
   "pygments_lexer": "ipython3",
   "version": "3.10.9"
  }
 },
 "nbformat": 4,
 "nbformat_minor": 5
}
