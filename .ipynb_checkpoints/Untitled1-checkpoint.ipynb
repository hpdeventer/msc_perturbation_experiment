{
 "cells": [
  {
   "cell_type": "code",
   "execution_count": null,
   "id": "4b9cc5c8",
   "metadata": {},
   "outputs": [],
   "source": [
    "I need to calculate the mean absolute perturbation and store the value in a latex text file.\n",
    "\n",
    "the following is a dataframe\n",
    "df_dict[1][False]['adam']\n",
    "\n",
    "keys -> label\n",
    "\n",
    "model_0_perturbations -> Linear Model\n",
    "model_1_perturbations -> Wide ReLU ANN\n",
    "model_2_perturbations -> Deep ReLU ANN\n",
    "model_3_perturbations -> One Parameter\n",
    "model_4_perturbations -> Spline ANN (z=1)\n",
    "model_5_perturbations -> Lookup Table (z=1)\n",
    "model_6_perturbations -> ABEL-Spline (z=1)\n",
    "model_7_perturbations -> Spline ANN (z=2)\n",
    "model_8_perturbations -> Lookup Table (z=2)\n",
    "model_9_perturbations -> ABEL-Spline (z=2)\n",
    "model_10_perturbations -> Spline ANN (z=4)\n",
    "model_11_perturbations -> Lookup Table (z=4)\n",
    "model_12_perturbations -> ABEL-Spline (z=4)\n",
    "model_13_perturbations -> Spline ANN (z=8)\n",
    "model_14_perturbations -> Lookup Table (z=8)\n",
    "model_15_perturbations -> ABEL-Spline (z=8)\n",
    "model_16_perturbations -> Spline ANN (z=10)\n",
    "model_17_perturbations -> Lookup Table (z=10)\n",
    "model_18_perturbations -> ABEL-Spline (z=10)\n",
    "min_distance -> Min Absolute Difference\n",
    "max_distance -> Max Absolute Difference\n",
    "\n"
   ]
  },
  {
   "cell_type": "code",
   "execution_count": null,
   "id": "b46beace",
   "metadata": {},
   "outputs": [],
   "source": [
    "model_3_perturbations -> One Parameter\n",
    "model_2_perturbations -> Deep ReLU ANN\n",
    "model_0_perturbations -> Linear Model\n",
    "model_1_perturbations -> Wide ReLU ANN\n",
    "...\n",
    "model_4_perturbations -> Spline ANN (z=1)\n",
    "model_7_perturbations -> Spline ANN (z=2)\n",
    "....\n",
    "model_6_perturbations -> ABEL-Spline (z=1)\n",
    "model_9_perturbations -> ABEL-Spline (z=2)\n",
    "\n",
    "...\n",
    "model_5_perturbations -> Lookup Table (z=1)\n",
    "model_8_perturbations -> Lookup Table (z=2)\n"
   ]
  }
 ],
 "metadata": {
  "kernelspec": {
   "display_name": "Python 3 (ipykernel)",
   "language": "python",
   "name": "python3"
  },
  "language_info": {
   "codemirror_mode": {
    "name": "ipython",
    "version": 3
   },
   "file_extension": ".py",
   "mimetype": "text/x-python",
   "name": "python",
   "nbconvert_exporter": "python",
   "pygments_lexer": "ipython3",
   "version": "3.10.9"
  }
 },
 "nbformat": 4,
 "nbformat_minor": 5
}
