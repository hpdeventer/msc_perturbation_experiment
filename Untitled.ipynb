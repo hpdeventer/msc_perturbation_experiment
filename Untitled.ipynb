{
 "cells": [
  {
   "cell_type": "code",
   "execution_count": 1,
   "id": "469f71f6",
   "metadata": {},
   "outputs": [],
   "source": [
    "# Standard library imports\n",
    "import os\n",
    "#import logging\n",
    "#import warnings\n",
    "import gc\n",
    "\n",
    "# Third-party library imports\n",
    "import numpy as np\n",
    "import tensorflow as tf\n",
    "\n",
    "# Local module imports\n",
    "from comparison_models import *\n",
    "\n",
    "# Configuration for logging and warnings\n",
    "#logging.getLogger('tensorflow').setLevel(logging.ERROR)\n",
    "#warnings.filterwarnings('ignore')\n",
    "\n",
    "# Constants\n",
    "NUM_TEST_POINTS = 5_000\n",
    "NUM_TRAIN_POINTS = 2000 # must be more than pseudo_samples\n",
    "NUM_PSEUDO_SAMPLES = 1500\n",
    "\n",
    "\n",
    "def pseudorehearsal(input_dim: int, num_samples: int, \n",
    "                    model: tf.keras.Model, \n",
    "                    train_x: np.ndarray, \n",
    "                    train_y: np.ndarray, \n",
    "                    seed_val: int) -> tuple:\n",
    "    '''\n",
    "    Generate pseudorehearsal samples using a given model, combine them with the original training data, \n",
    "    and return the shuffled combined dataset.\n",
    "\n",
    "    Args:\n",
    "    - input_dim (int): Dimension of the input space.\n",
    "    - num_samples (int): Number of pseudorehearsal samples to generate.\n",
    "    - model (tf.keras.Model): Model to generate rehearsal targets.\n",
    "    - train_x (np.ndarray): Original training input data.\n",
    "    - train_y (np.ndarray): Original training target data.\n",
    "    - seed_val (int): Seed value for random number generation.\n",
    "\n",
    "    Returns:\n",
    "    - tuple: Shuffled combined input and target data.\n",
    "    '''\n",
    "    \n",
    "    # Generate pseudorehearsal samples, assume uniform over [0,1]^n\n",
    "    rng = np.random.default_rng(seed_val)\n",
    "    rehearsal_samples = rng.uniform(0, 1, size=(num_samples, input_dim))\n",
    "    #print(\"rehearsal starts\")\n",
    "    rehearsal_targets = model(rehearsal_samples)\n",
    "    #print(\"ends\")\n",
    "    \n",
    "    # Combine training data with pseudorehearsal data and shuffle them\n",
    "    combined_x = np.concatenate([train_x, rehearsal_samples], axis=0)\n",
    "    combined_y = np.concatenate([train_y, rehearsal_targets], axis=0)\n",
    "    \n",
    "    indices = np.arange(combined_x.shape[0])\n",
    "    rng.shuffle(indices)\n",
    "\n",
    "    shuffled_x = combined_x[indices]\n",
    "    shuffled_y = combined_y[indices]\n",
    "\n",
    "    return shuffled_x, shuffled_y\n",
    "\n",
    "\n",
    "\n",
    "def save_data(data: np.ndarray, folder_name: str, file_name: str) -> None:\n",
    "    '''Save data to a specified directory.\n",
    "    \n",
    "    Args:\n",
    "    - data (np.ndarray): Data to save.\n",
    "    - folder_name (str): Name of the folder to save data in.\n",
    "    - file_name (str): Name of the file to save data as.\n",
    "    '''\n",
    "    try:\n",
    "        os.makedirs(folder_name, exist_ok=True)\n",
    "        np.save(os.path.join(folder_name, file_name), data)\n",
    "    except Exception as e:\n",
    "        print(f\"Error saving data: {e}\")\n",
    "\n",
    "def perturbation_experiment(trial_number: int, \n",
    "                                  input_dimension: int, \n",
    "                                  epochs: int = 20, \n",
    "                                  batch_size: int = 128, \n",
    "                                  use_pseudorehearsal: bool = False,\n",
    "                                  loss_function: str = \"mse\",\n",
    "                                  optimizer: str = \"sgd\",\n",
    "                                  verbose: int = 0) -> None:\n",
    "    '''Run a basic perturbation experiment with various configurations.\n",
    "    \n",
    "    Args:\n",
    "    - trial_number (int): Identifier for the trial.\n",
    "    - input_dimension (int): Dimension of the input space.\n",
    "    - epochs (int, optional): Number of training epochs. Default is 20.\n",
    "    - batch_size (int, optional): Size of training batch. Default is 128.\n",
    "    - pseudo_rehearse (bool, optional): Whether to use pseudorehearsal. Default is False.\n",
    "    - loss_function (str, optional): Loss function for training. Default is \"mse\".\n",
    "    - verbose (int, optional): Verbosity mode for training. Default is 0 (silent).\n",
    "    '''\n",
    "    # Ensuring reproducibility with seed values\n",
    "    seed_val = hash(f\"Trial Number: {trial_number}Input Dimension{input_dimension}\") % (2**32)\n",
    "    #np.random.seed(seed_val)\n",
    "    rng = np.random.default_rng(seed_val)\n",
    "    tf.random.set_seed(seed_val)\n",
    "\n",
    "    # Initialize models based on the given configurations\n",
    "    models = initialize_all_models(input_dimension, seed_val)\n",
    "\n",
    "    # Generate training data by repeating a specific point and its corresponding target\n",
    "    \n",
    "    point_of_interest = rng.uniform(0, 1, size=(1, input_dimension))\n",
    "    random_target_value = rng.standard_normal(size=(1, 1))\n",
    "    \n",
    "    base_folder = f\"results/input_dim_{input_dimension}_{use_pseudorehearsal}_{optimizer}/trial_{trial_number}\"\n",
    "    \n",
    "    x_train = np.repeat(point_of_interest, NUM_TRAIN_POINTS, axis=0)\n",
    "    y_train = np.repeat(random_target_value, NUM_TRAIN_POINTS, axis=0)\n",
    "    \n",
    "    # Generate random test points\n",
    "    random_test_points = rng.uniform(0, 1, size=(NUM_TEST_POINTS, input_dimension))\n",
    "    \n",
    "    # Containers for storing model outputs before and after training\n",
    "    outputs_prior = []\n",
    "    outputs_after = []\n",
    "\n",
    "    # Container for storing absolute perturbation values (changes in model outputs)\n",
    "    absolute_perturbations = []\n",
    "\n",
    "    for i, model in enumerate(models):\n",
    "        outputs_prior.append(model.predict(random_test_points, verbose=verbose))\n",
    "        #model.summary()\n",
    "        model.compile(optimizer='sgd', loss=loss_function)\n",
    "        \n",
    "        # Choose between regular training and pseudorehearsal augmented training\n",
    "        if not use_pseudorehearsal:\n",
    "            model.fit(x_train, y_train, batch_size=batch_size, epochs=epochs, verbose=verbose)\n",
    "        else:\n",
    "            augmented_x, augmented_y = pseudorehearsal(input_dim=input_dimension, \n",
    "                                                       num_samples=NUM_PSEUDO_SAMPLES, \n",
    "                                                       model=model, \n",
    "                                                       train_x=x_train, \n",
    "                                                       train_y=y_train,\n",
    "                                                       seed_val=seed_val)\n",
    "            model.fit(augmented_x, augmented_y, batch_size=batch_size, epochs=epochs, verbose=verbose)\n",
    "            del augmented_x, augmented_y\n",
    "\n",
    "        # Predict after training\n",
    "        outputs_after.append(model.predict(random_test_points,verbose=verbose))\n",
    "        \n",
    "        # Calculate the absolute difference between predictions\n",
    "        absolute_perturbations.append(np.abs(outputs_after[-1] - outputs_prior[-1]))\n",
    "\n",
    "        # Save results for analysis\n",
    "        model.save(f\"{base_folder}/models/model_{i}\")\n",
    "        save_data(outputs_prior[-1], f\"{base_folder}/model_outputs/model_{i}\", \"output_prior_training.npy\")\n",
    "        save_data(outputs_after[-1], f\"{base_folder}/model_outputs/model_{i}\", \"output_after_training.npy\")\n",
    "        save_data(absolute_perturbations[-1], f\"{base_folder}/perturbations/model_{i}\", \"absolute_perturbation.npy\")\n",
    "\n",
    "    # Compute distances for further analysis\n",
    "    max_distances = np.linalg.norm((point_of_interest-random_test_points), ord=np.inf, axis=-1)\n",
    "    min_distances = np.linalg.norm((point_of_interest-random_test_points), ord=-np.inf, axis=-1)\n",
    "    save_data(min_distances, f\"{base_folder}/distances\", \"min_distances.npy\")\n",
    "    save_data(max_distances, f\"{base_folder}/distances\", \"max_distances.npy\")\n",
    "    \n",
    "    del models, outputs_prior, outputs_after, absolute_perturbations\n",
    "    gc.collect()\n"
   ]
  },
  {
   "cell_type": "code",
   "execution_count": 2,
   "id": "0c56e2c7",
   "metadata": {},
   "outputs": [
    {
     "name": "stdout",
     "output_type": "stream",
     "text": [
      "INFO:tensorflow:Assets written to: results/input_dim_2_False_sgd/trial_2/models/model_0\\assets\n",
      "INFO:tensorflow:Assets written to: results/input_dim_2_False_sgd/trial_2/models/model_1\\assets\n",
      "INFO:tensorflow:Assets written to: results/input_dim_2_False_sgd/trial_2/models/model_2\\assets\n",
      "INFO:tensorflow:Assets written to: results/input_dim_2_False_sgd/trial_2/models/model_3\\assets\n"
     ]
    },
    {
     "name": "stderr",
     "output_type": "stream",
     "text": [
      "WARNING:absl:Found untraced functions such as _jit_compiled_convolution_op, _jit_compiled_convolution_op, _jit_compiled_convolution_op while saving (showing 3 of 3). These functions will not be directly callable after loading.\n"
     ]
    },
    {
     "name": "stdout",
     "output_type": "stream",
     "text": [
      "INFO:tensorflow:Assets written to: results/input_dim_2_False_sgd/trial_2/models/model_4\\assets\n"
     ]
    },
    {
     "name": "stderr",
     "output_type": "stream",
     "text": [
      "INFO:tensorflow:Assets written to: results/input_dim_2_False_sgd/trial_2/models/model_4\\assets\n"
     ]
    },
    {
     "name": "stdout",
     "output_type": "stream",
     "text": [
      "INFO:tensorflow:Assets written to: results/input_dim_2_False_sgd/trial_2/models/model_5\\assets\n"
     ]
    },
    {
     "name": "stderr",
     "output_type": "stream",
     "text": [
      "INFO:tensorflow:Assets written to: results/input_dim_2_False_sgd/trial_2/models/model_5\\assets\n",
      "WARNING:absl:Found untraced functions such as _jit_compiled_convolution_op, _jit_compiled_convolution_op, _jit_compiled_convolution_op, reshape_layer_call_fn, reshape_layer_call_and_return_conditional_losses while saving (showing 5 of 10). These functions will not be directly callable after loading.\n"
     ]
    },
    {
     "name": "stdout",
     "output_type": "stream",
     "text": [
      "INFO:tensorflow:Assets written to: results/input_dim_2_False_sgd/trial_2/models/model_6\\assets\n"
     ]
    },
    {
     "name": "stderr",
     "output_type": "stream",
     "text": [
      "INFO:tensorflow:Assets written to: results/input_dim_2_False_sgd/trial_2/models/model_6\\assets\n",
      "WARNING:absl:Found untraced functions such as _jit_compiled_convolution_op, _jit_compiled_convolution_op, _jit_compiled_convolution_op while saving (showing 3 of 3). These functions will not be directly callable after loading.\n"
     ]
    },
    {
     "name": "stdout",
     "output_type": "stream",
     "text": [
      "INFO:tensorflow:Assets written to: results/input_dim_2_False_sgd/trial_2/models/model_7\\assets\n"
     ]
    },
    {
     "name": "stderr",
     "output_type": "stream",
     "text": [
      "INFO:tensorflow:Assets written to: results/input_dim_2_False_sgd/trial_2/models/model_7\\assets\n"
     ]
    },
    {
     "name": "stdout",
     "output_type": "stream",
     "text": [
      "INFO:tensorflow:Assets written to: results/input_dim_2_False_sgd/trial_2/models/model_8\\assets\n"
     ]
    },
    {
     "name": "stderr",
     "output_type": "stream",
     "text": [
      "INFO:tensorflow:Assets written to: results/input_dim_2_False_sgd/trial_2/models/model_8\\assets\n",
      "WARNING:absl:Found untraced functions such as _jit_compiled_convolution_op, _jit_compiled_convolution_op, _jit_compiled_convolution_op, reshape_2_layer_call_fn, reshape_2_layer_call_and_return_conditional_losses while saving (showing 5 of 10). These functions will not be directly callable after loading.\n"
     ]
    },
    {
     "name": "stdout",
     "output_type": "stream",
     "text": [
      "INFO:tensorflow:Assets written to: results/input_dim_2_False_sgd/trial_2/models/model_9\\assets\n"
     ]
    },
    {
     "name": "stderr",
     "output_type": "stream",
     "text": [
      "INFO:tensorflow:Assets written to: results/input_dim_2_False_sgd/trial_2/models/model_9\\assets\n",
      "WARNING:absl:Found untraced functions such as _jit_compiled_convolution_op, _jit_compiled_convolution_op, _jit_compiled_convolution_op while saving (showing 3 of 3). These functions will not be directly callable after loading.\n"
     ]
    },
    {
     "name": "stdout",
     "output_type": "stream",
     "text": [
      "INFO:tensorflow:Assets written to: results/input_dim_2_False_sgd/trial_2/models/model_10\\assets\n"
     ]
    },
    {
     "name": "stderr",
     "output_type": "stream",
     "text": [
      "INFO:tensorflow:Assets written to: results/input_dim_2_False_sgd/trial_2/models/model_10\\assets\n"
     ]
    },
    {
     "name": "stdout",
     "output_type": "stream",
     "text": [
      "INFO:tensorflow:Assets written to: results/input_dim_2_False_sgd/trial_2/models/model_11\\assets\n"
     ]
    },
    {
     "name": "stderr",
     "output_type": "stream",
     "text": [
      "INFO:tensorflow:Assets written to: results/input_dim_2_False_sgd/trial_2/models/model_11\\assets\n",
      "WARNING:absl:Found untraced functions such as _jit_compiled_convolution_op, _jit_compiled_convolution_op, _jit_compiled_convolution_op, reshape_4_layer_call_fn, reshape_4_layer_call_and_return_conditional_losses while saving (showing 5 of 10). These functions will not be directly callable after loading.\n"
     ]
    },
    {
     "name": "stdout",
     "output_type": "stream",
     "text": [
      "INFO:tensorflow:Assets written to: results/input_dim_2_False_sgd/trial_2/models/model_12\\assets\n"
     ]
    },
    {
     "name": "stderr",
     "output_type": "stream",
     "text": [
      "INFO:tensorflow:Assets written to: results/input_dim_2_False_sgd/trial_2/models/model_12\\assets\n",
      "WARNING:absl:Found untraced functions such as _jit_compiled_convolution_op, _jit_compiled_convolution_op, _jit_compiled_convolution_op while saving (showing 3 of 3). These functions will not be directly callable after loading.\n"
     ]
    },
    {
     "name": "stdout",
     "output_type": "stream",
     "text": [
      "INFO:tensorflow:Assets written to: results/input_dim_2_False_sgd/trial_2/models/model_13\\assets\n"
     ]
    },
    {
     "name": "stderr",
     "output_type": "stream",
     "text": [
      "INFO:tensorflow:Assets written to: results/input_dim_2_False_sgd/trial_2/models/model_13\\assets\n"
     ]
    },
    {
     "name": "stdout",
     "output_type": "stream",
     "text": [
      "INFO:tensorflow:Assets written to: results/input_dim_2_False_sgd/trial_2/models/model_14\\assets\n"
     ]
    },
    {
     "name": "stderr",
     "output_type": "stream",
     "text": [
      "INFO:tensorflow:Assets written to: results/input_dim_2_False_sgd/trial_2/models/model_14\\assets\n",
      "WARNING:absl:Found untraced functions such as _jit_compiled_convolution_op, _jit_compiled_convolution_op, _jit_compiled_convolution_op, reshape_6_layer_call_fn, reshape_6_layer_call_and_return_conditional_losses while saving (showing 5 of 10). These functions will not be directly callable after loading.\n"
     ]
    },
    {
     "name": "stdout",
     "output_type": "stream",
     "text": [
      "INFO:tensorflow:Assets written to: results/input_dim_2_False_sgd/trial_2/models/model_15\\assets\n"
     ]
    },
    {
     "name": "stderr",
     "output_type": "stream",
     "text": [
      "INFO:tensorflow:Assets written to: results/input_dim_2_False_sgd/trial_2/models/model_15\\assets\n",
      "WARNING:absl:Found untraced functions such as _jit_compiled_convolution_op, _jit_compiled_convolution_op, _jit_compiled_convolution_op while saving (showing 3 of 3). These functions will not be directly callable after loading.\n"
     ]
    },
    {
     "name": "stdout",
     "output_type": "stream",
     "text": [
      "INFO:tensorflow:Assets written to: results/input_dim_2_False_sgd/trial_2/models/model_16\\assets\n"
     ]
    },
    {
     "name": "stderr",
     "output_type": "stream",
     "text": [
      "INFO:tensorflow:Assets written to: results/input_dim_2_False_sgd/trial_2/models/model_16\\assets\n"
     ]
    },
    {
     "name": "stdout",
     "output_type": "stream",
     "text": [
      "INFO:tensorflow:Assets written to: results/input_dim_2_False_sgd/trial_2/models/model_17\\assets\n"
     ]
    },
    {
     "name": "stderr",
     "output_type": "stream",
     "text": [
      "INFO:tensorflow:Assets written to: results/input_dim_2_False_sgd/trial_2/models/model_17\\assets\n",
      "WARNING:absl:Found untraced functions such as _jit_compiled_convolution_op, _jit_compiled_convolution_op, _jit_compiled_convolution_op, reshape_8_layer_call_fn, reshape_8_layer_call_and_return_conditional_losses while saving (showing 5 of 10). These functions will not be directly callable after loading.\n"
     ]
    },
    {
     "name": "stdout",
     "output_type": "stream",
     "text": [
      "INFO:tensorflow:Assets written to: results/input_dim_2_False_sgd/trial_2/models/model_18\\assets\n"
     ]
    },
    {
     "name": "stderr",
     "output_type": "stream",
     "text": [
      "INFO:tensorflow:Assets written to: results/input_dim_2_False_sgd/trial_2/models/model_18\\assets\n"
     ]
    }
   ],
   "source": [
    "perturbation_experiment(trial_number=2, input_dimension=2)"
   ]
  },
  {
   "cell_type": "code",
   "execution_count": 12,
   "id": "d381b997",
   "metadata": {},
   "outputs": [
    {
     "name": "stdout",
     "output_type": "stream",
     "text": [
      "1\n",
      "4\n",
      "7\n",
      "10\n"
     ]
    }
   ],
   "source": [
    "for x in [1,2,4,8,10]:\n",
    "    print(x)"
   ]
  },
  {
   "cell_type": "code",
   "execution_count": null,
   "id": "18369df6",
   "metadata": {},
   "outputs": [],
   "source": []
  }
 ],
 "metadata": {
  "kernelspec": {
   "display_name": "Python 3 (ipykernel)",
   "language": "python",
   "name": "python3"
  },
  "language_info": {
   "codemirror_mode": {
    "name": "ipython",
    "version": 3
   },
   "file_extension": ".py",
   "mimetype": "text/x-python",
   "name": "python",
   "nbconvert_exporter": "python",
   "pygments_lexer": "ipython3",
   "version": "3.10.9"
  }
 },
 "nbformat": 4,
 "nbformat_minor": 5
}
