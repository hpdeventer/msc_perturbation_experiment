{
 "cells": [
  {
   "cell_type": "code",
   "execution_count": 4,
   "id": "9ac9d0ee",
   "metadata": {},
   "outputs": [
    {
     "name": "stdout",
     "output_type": "stream",
     "text": [
      "Execution Time: 0.6305534839630127 seconds\n"
     ]
    }
   ],
   "source": [
    "import logging\n",
    "import warnings\n",
    "import time\n",
    "import numpy as np\n",
    "import gc\n",
    "from concurrent.futures import ProcessPoolExecutor\n",
    "from comparison_models import *\n",
    "from perturb_experiment_helper import *\n",
    "\n",
    "logging.getLogger('tensorflow').setLevel(logging.ERROR)\n",
    "warnings.filterwarnings('ignore')\n",
    "\n",
    "# target function that runs experiments and saves data (in seperate/unique files)\n",
    "\"\"\"def perturbation_experiment(trial_number: int, \n",
    "                                  input_dimension: int, \n",
    "                                  epochs: int = 20, \n",
    "                                  batch_size: int = 128, \n",
    "                                  use_pseudorehearsal: bool = False,\n",
    "                                  loss_function: str = \"mse\",\n",
    "                                  optimizer: str = \"sgd\",\n",
    "                                  verbose: int = 0) -> None:\"\"\"\n",
    "    '''Run a basic perturbation experiment with various configurations.\n",
    "    \n",
    "    Args:\n",
    "    - trial_number (int): Identifier for the trial.\n",
    "    - input_dimension (int): Dimension of the input space.\n",
    "    - epochs (int, optional): Number of training epochs. Default is 20.\n",
    "    - batch_size (int, optional): Size of training batch. Default is 128.\n",
    "    - pseudo_rehearse (bool, optional): Whether to use pseudorehearsal. Default is False.\n",
    "    - loss_function (str, optional): Loss function for training. Default is \"mse\".\n",
    "    - verbose (int, optional): Verbosity mode for training. Default is 0 (silent).\n",
    "    '''\n",
    "\n",
    "start_time = time.time()\n",
    "\n",
    "optimizers = ['adam', 'sgd']\n",
    "pseudorehearsals = [True, False]\n",
    "trial_numbers = list(range(6))\n",
    "input_dimensions = [x for x in range(1,3)]\n",
    "\n",
    "# Split the trial_numbers into 3 roughly equal parts\n",
    "subsets_of_trials = np.array_split(trial_numbers, 3)\n",
    "\n",
    "for trial_subset in subsets_of_trials:\n",
    "    all_experiments = []\n",
    "\n",
    "    #Something that contains all the combinations of parameters for the function\n",
    "\n",
    "    # Execute all experiments in parallel\n",
    "    with ProcessPoolExecutor() as executor:\n",
    "        executor.map(#target function, experiment parameters)\n",
    "\n",
    "    # Cleanup to save memory\n",
    "    del all_experiments\n",
    "    gc.collect()\n",
    "\n",
    "print(f\"Execution Time: {time.time() - start_time} seconds\")\n"
   ]
  },
  {
   "cell_type": "code",
   "execution_count": null,
   "id": "27d3c8ba",
   "metadata": {},
   "outputs": [],
   "source": []
  },
  {
   "cell_type": "code",
   "execution_count": null,
   "id": "e9bd2492",
   "metadata": {},
   "outputs": [],
   "source": []
  },
  {
   "cell_type": "code",
   "execution_count": null,
   "id": "4dd4f806",
   "metadata": {},
   "outputs": [],
   "source": []
  },
  {
   "cell_type": "code",
   "execution_count": null,
   "id": "fa2f9f34",
   "metadata": {},
   "outputs": [],
   "source": [
    "# Standard library imports\n",
    "#import os\n",
    "import logging\n",
    "import warnings\n",
    "#import gc\n",
    "#import time\n",
    "\n",
    "# Third-party library imports\n",
    "#import numpy as np\n",
    "#import tensorflow as tf\n",
    "\n",
    "# Local module imports\n",
    "from comparison_models import *\n",
    "from perturb_experiment_helper import *\n",
    "\n",
    "# Configuration for logging and warnings\n",
    "logging.getLogger('tensorflow').setLevel(logging.ERROR)\n",
    "warnings.filterwarnings('ignore')\n",
    "\n",
    "import time\n",
    "import numpy as np\n",
    "import os\n",
    "import gc\n",
    "from concurrent.futures import ProcessPoolExecutor\n",
    "\n",
    "\n",
    "def wrapper(args):\n",
    "    basic_perturbation_experiment(**args)\n",
    "\n",
    "def load_and_save_data(input_dim=2, \n",
    "                       use_pseudorehearsal=False, \n",
    "                       optimizer='sgd', \n",
    "                       trials=30, \n",
    "                       num_models=6):\n",
    "    \"\"\"\n",
    "    Load and save data from specified trials and models to a folder.\n",
    "    \n",
    "    Parameters:\n",
    "    - input_dim (int): Input dimension.\n",
    "    - use_pseudorehearsal (bool): Whether pseudo rehearsal is used.\n",
    "    - optimizer (str): Type of optimizer.\n",
    "    - trials (int): Number of trials.\n",
    "    - num_models (int): Number of models.\n",
    "    \"\"\"\n",
    "    base_folder = f\"results/input_dim_{input_dim}_{use_pseudorehearsal}_{optimizer}\"\n",
    "\n",
    "    # Initialize the main data storage with the desired structure\n",
    "    data = {\n",
    "        \"min_distance\": [],\n",
    "        \"max_distance\": []\n",
    "    }\n",
    "\n",
    "    for j in range(num_models):\n",
    "        data[f\"model_{j}_perturbations\"] = []\n",
    "\n",
    "    for i in range(trials):\n",
    "        trial_folder = f\"{base_folder}/trial_{i}\"\n",
    "\n",
    "        min_distance_path = f\"{trial_folder}/distances/min_distances.npy\"\n",
    "        max_distance_path = f\"{trial_folder}/distances/max_distances.npy\"\n",
    "\n",
    "        # Load the distances from the numpy files\n",
    "        if os.path.exists(min_distance_path):\n",
    "            min_distance = np.load(min_distance_path)\n",
    "            data[\"min_distance\"].append(min_distance)\n",
    "        else:\n",
    "            print(f\"Warning: {min_distance_path} not found.\")\n",
    "\n",
    "        if os.path.exists(max_distance_path):\n",
    "            max_distance = np.load(max_distance_path)\n",
    "            data[\"max_distance\"].append(max_distance)\n",
    "        else:\n",
    "            print(f\"Warning: {max_distance_path} not found.\")\n",
    "\n",
    "        for j in range(num_models):\n",
    "            perturbation_path = f\"{trial_folder}/perturbations/model_{j}/absolute_perturbation.npy\"\n",
    "\n",
    "            # Load the perturbation from the numpy file\n",
    "            if os.path.exists(perturbation_path):\n",
    "                perturbation_data = np.load(perturbation_path)\n",
    "                data[f\"model_{j}_perturbations\"].append(perturbation_data)\n",
    "            else:\n",
    "                print(f\"Warning: {perturbation_path} not found.\")\n",
    "\n",
    "    # Convert lists of numpy arrays to a single concatenated numpy array\n",
    "    for key in data:\n",
    "        if data[key]:  # Check if the list is not empty\n",
    "            data[key] = np.concatenate(data[key], axis=0).flatten()\n",
    "        else:\n",
    "            data[key] = None  # Set the value to None if the list is empty\n",
    "\n",
    "    # Save the data\n",
    "    save_folder = \"aggregated_results\"\n",
    "    if not os.path.exists(save_folder):\n",
    "        os.makedirs(save_folder)\n",
    "    save_path = f\"{save_folder}/data_input_dim_{input_dim}.npy\"\n",
    "    np.save(save_path, data)\n",
    "\n",
    "def prepare_experiments(args):\n",
    "    input_dim, trial_number, optimizers, pseudorehearsals = args\n",
    "    experiments = []\n",
    "    #for trial in trial_numbers:\n",
    "    for optimizer in optimizers:\n",
    "        for use_pseudorehearsal in pseudorehearsals:\n",
    "            experiment_arguments = {\n",
    "                'trial_number': trial_number,\n",
    "                'input_dimension': input_dim,\n",
    "                'use_pseudorehearsal': use_pseudorehearsal,\n",
    "                'loss_function': 'mse',\n",
    "                'verbose': 0,\n",
    "                'optimizer': optimizer\n",
    "            }\n",
    "            experiments.append(experiment_arguments)\n",
    "    return experiments\n",
    "\n",
    "#if __name__ == \"__main__\":\n",
    "start_time = time.time()\n",
    "\n",
    "#trial_numbers = list(range(31))\n",
    "optimizers = ['adam', 'sgd']\n",
    "pseudorehearsals = [True, False]\n",
    "number_of_trials = 3\n",
    "input_dimensions = [x for x in range(1,3)]\n",
    "\n",
    "\n",
    "for trial_num in range(1, number_of_trials): # Iterate over partition numbers using a for-loop\n",
    "    input_dim_combinations = [(input_dim, trial_num, optimizers, pseudorehearsals) \n",
    "                              for input_dim in range(1, 7)]\n",
    "    print(input_dim_combinations)\n",
    "\n",
    "    all_experiments = []\n",
    "    for combo in input_dim_combinations:\n",
    "        all_experiments.extend(prepare_experiments(combo))\n",
    "\n",
    "    # Execute all experiments for the given partition in parallel\n",
    "    with ProcessPoolExecutor() as executor:\n",
    "        executor.map(wrapper, all_experiments)\n",
    "\n",
    "    # Aggregate results after all experiments for the given partition have run\n",
    "    for combo in input_dim_combinations:\n",
    "        input_dim, _, _, _ = combo\n",
    "\n",
    "        # Loop through optimizers and pseudorehearsals to call the `load_and_save_data` for each combination\n",
    "        for optimizer in optimizers:\n",
    "            for use_pseudorehearsal in pseudorehearsals:\n",
    "                load_and_save_data(input_dim=input_dim, \n",
    "                                   optimizer=optimizer, \n",
    "                                   use_pseudorehearsal=use_pseudorehearsal, \n",
    "                                   trials=number_of_trials, \n",
    "                                   num_models=18)\n",
    "\n",
    "    # Cleanup to save memory\n",
    "    del all_experiments\n",
    "    gc.collect()\n",
    "\n",
    "print(f\"Execution Time: {time.time() - start_time} seconds\")\n",
    "\n"
   ]
  },
  {
   "cell_type": "code",
   "execution_count": null,
   "id": "16efe166",
   "metadata": {},
   "outputs": [],
   "source": []
  },
  {
   "cell_type": "code",
   "execution_count": null,
   "id": "bd785c31",
   "metadata": {},
   "outputs": [],
   "source": []
  },
  {
   "cell_type": "code",
   "execution_count": 2,
   "id": "8aa7de4a",
   "metadata": {},
   "outputs": [
    {
     "name": "stdout",
     "output_type": "stream",
     "text": [
      "INFO:tensorflow:Assets written to: results/input_dim_2_False_sgd/trial_2/models/model_0\\assets\n",
      "INFO:tensorflow:Assets written to: results/input_dim_2_False_sgd/trial_2/models/model_1\\assets\n",
      "INFO:tensorflow:Assets written to: results/input_dim_2_False_sgd/trial_2/models/model_2\\assets\n",
      "INFO:tensorflow:Assets written to: results/input_dim_2_False_sgd/trial_2/models/model_3\\assets\n"
     ]
    },
    {
     "name": "stderr",
     "output_type": "stream",
     "text": [
      "WARNING:absl:Found untraced functions such as _jit_compiled_convolution_op, _jit_compiled_convolution_op, _jit_compiled_convolution_op while saving (showing 3 of 3). These functions will not be directly callable after loading.\n"
     ]
    },
    {
     "name": "stdout",
     "output_type": "stream",
     "text": [
      "INFO:tensorflow:Assets written to: results/input_dim_2_False_sgd/trial_2/models/model_4\\assets\n"
     ]
    },
    {
     "name": "stderr",
     "output_type": "stream",
     "text": [
      "INFO:tensorflow:Assets written to: results/input_dim_2_False_sgd/trial_2/models/model_4\\assets\n"
     ]
    },
    {
     "name": "stdout",
     "output_type": "stream",
     "text": [
      "INFO:tensorflow:Assets written to: results/input_dim_2_False_sgd/trial_2/models/model_5\\assets\n"
     ]
    },
    {
     "name": "stderr",
     "output_type": "stream",
     "text": [
      "INFO:tensorflow:Assets written to: results/input_dim_2_False_sgd/trial_2/models/model_5\\assets\n",
      "WARNING:absl:Found untraced functions such as _jit_compiled_convolution_op, _jit_compiled_convolution_op, _jit_compiled_convolution_op, reshape_layer_call_fn, reshape_layer_call_and_return_conditional_losses while saving (showing 5 of 10). These functions will not be directly callable after loading.\n"
     ]
    },
    {
     "name": "stdout",
     "output_type": "stream",
     "text": [
      "INFO:tensorflow:Assets written to: results/input_dim_2_False_sgd/trial_2/models/model_6\\assets\n"
     ]
    },
    {
     "name": "stderr",
     "output_type": "stream",
     "text": [
      "INFO:tensorflow:Assets written to: results/input_dim_2_False_sgd/trial_2/models/model_6\\assets\n",
      "WARNING:absl:Found untraced functions such as _jit_compiled_convolution_op, _jit_compiled_convolution_op, _jit_compiled_convolution_op while saving (showing 3 of 3). These functions will not be directly callable after loading.\n"
     ]
    },
    {
     "name": "stdout",
     "output_type": "stream",
     "text": [
      "INFO:tensorflow:Assets written to: results/input_dim_2_False_sgd/trial_2/models/model_7\\assets\n"
     ]
    },
    {
     "name": "stderr",
     "output_type": "stream",
     "text": [
      "INFO:tensorflow:Assets written to: results/input_dim_2_False_sgd/trial_2/models/model_7\\assets\n"
     ]
    },
    {
     "name": "stdout",
     "output_type": "stream",
     "text": [
      "INFO:tensorflow:Assets written to: results/input_dim_2_False_sgd/trial_2/models/model_8\\assets\n"
     ]
    },
    {
     "name": "stderr",
     "output_type": "stream",
     "text": [
      "INFO:tensorflow:Assets written to: results/input_dim_2_False_sgd/trial_2/models/model_8\\assets\n",
      "WARNING:absl:Found untraced functions such as _jit_compiled_convolution_op, _jit_compiled_convolution_op, _jit_compiled_convolution_op, reshape_2_layer_call_fn, reshape_2_layer_call_and_return_conditional_losses while saving (showing 5 of 10). These functions will not be directly callable after loading.\n"
     ]
    },
    {
     "name": "stdout",
     "output_type": "stream",
     "text": [
      "INFO:tensorflow:Assets written to: results/input_dim_2_False_sgd/trial_2/models/model_9\\assets\n"
     ]
    },
    {
     "name": "stderr",
     "output_type": "stream",
     "text": [
      "INFO:tensorflow:Assets written to: results/input_dim_2_False_sgd/trial_2/models/model_9\\assets\n",
      "WARNING:absl:Found untraced functions such as _jit_compiled_convolution_op, _jit_compiled_convolution_op, _jit_compiled_convolution_op while saving (showing 3 of 3). These functions will not be directly callable after loading.\n"
     ]
    },
    {
     "name": "stdout",
     "output_type": "stream",
     "text": [
      "INFO:tensorflow:Assets written to: results/input_dim_2_False_sgd/trial_2/models/model_10\\assets\n"
     ]
    },
    {
     "name": "stderr",
     "output_type": "stream",
     "text": [
      "INFO:tensorflow:Assets written to: results/input_dim_2_False_sgd/trial_2/models/model_10\\assets\n"
     ]
    },
    {
     "name": "stdout",
     "output_type": "stream",
     "text": [
      "INFO:tensorflow:Assets written to: results/input_dim_2_False_sgd/trial_2/models/model_11\\assets\n"
     ]
    },
    {
     "name": "stderr",
     "output_type": "stream",
     "text": [
      "INFO:tensorflow:Assets written to: results/input_dim_2_False_sgd/trial_2/models/model_11\\assets\n",
      "WARNING:absl:Found untraced functions such as _jit_compiled_convolution_op, _jit_compiled_convolution_op, _jit_compiled_convolution_op, reshape_4_layer_call_fn, reshape_4_layer_call_and_return_conditional_losses while saving (showing 5 of 10). These functions will not be directly callable after loading.\n"
     ]
    },
    {
     "name": "stdout",
     "output_type": "stream",
     "text": [
      "INFO:tensorflow:Assets written to: results/input_dim_2_False_sgd/trial_2/models/model_12\\assets\n"
     ]
    },
    {
     "name": "stderr",
     "output_type": "stream",
     "text": [
      "INFO:tensorflow:Assets written to: results/input_dim_2_False_sgd/trial_2/models/model_12\\assets\n",
      "WARNING:absl:Found untraced functions such as _jit_compiled_convolution_op, _jit_compiled_convolution_op, _jit_compiled_convolution_op while saving (showing 3 of 3). These functions will not be directly callable after loading.\n"
     ]
    },
    {
     "name": "stdout",
     "output_type": "stream",
     "text": [
      "INFO:tensorflow:Assets written to: results/input_dim_2_False_sgd/trial_2/models/model_13\\assets\n"
     ]
    },
    {
     "name": "stderr",
     "output_type": "stream",
     "text": [
      "INFO:tensorflow:Assets written to: results/input_dim_2_False_sgd/trial_2/models/model_13\\assets\n"
     ]
    },
    {
     "name": "stdout",
     "output_type": "stream",
     "text": [
      "INFO:tensorflow:Assets written to: results/input_dim_2_False_sgd/trial_2/models/model_14\\assets\n"
     ]
    },
    {
     "name": "stderr",
     "output_type": "stream",
     "text": [
      "INFO:tensorflow:Assets written to: results/input_dim_2_False_sgd/trial_2/models/model_14\\assets\n",
      "WARNING:absl:Found untraced functions such as _jit_compiled_convolution_op, _jit_compiled_convolution_op, _jit_compiled_convolution_op, reshape_6_layer_call_fn, reshape_6_layer_call_and_return_conditional_losses while saving (showing 5 of 10). These functions will not be directly callable after loading.\n"
     ]
    },
    {
     "name": "stdout",
     "output_type": "stream",
     "text": [
      "INFO:tensorflow:Assets written to: results/input_dim_2_False_sgd/trial_2/models/model_15\\assets\n"
     ]
    },
    {
     "name": "stderr",
     "output_type": "stream",
     "text": [
      "INFO:tensorflow:Assets written to: results/input_dim_2_False_sgd/trial_2/models/model_15\\assets\n",
      "WARNING:absl:Found untraced functions such as _jit_compiled_convolution_op, _jit_compiled_convolution_op, _jit_compiled_convolution_op while saving (showing 3 of 3). These functions will not be directly callable after loading.\n"
     ]
    },
    {
     "name": "stdout",
     "output_type": "stream",
     "text": [
      "INFO:tensorflow:Assets written to: results/input_dim_2_False_sgd/trial_2/models/model_16\\assets\n"
     ]
    },
    {
     "name": "stderr",
     "output_type": "stream",
     "text": [
      "INFO:tensorflow:Assets written to: results/input_dim_2_False_sgd/trial_2/models/model_16\\assets\n"
     ]
    },
    {
     "name": "stdout",
     "output_type": "stream",
     "text": [
      "INFO:tensorflow:Assets written to: results/input_dim_2_False_sgd/trial_2/models/model_17\\assets\n"
     ]
    },
    {
     "name": "stderr",
     "output_type": "stream",
     "text": [
      "INFO:tensorflow:Assets written to: results/input_dim_2_False_sgd/trial_2/models/model_17\\assets\n",
      "WARNING:absl:Found untraced functions such as _jit_compiled_convolution_op, _jit_compiled_convolution_op, _jit_compiled_convolution_op, reshape_8_layer_call_fn, reshape_8_layer_call_and_return_conditional_losses while saving (showing 5 of 10). These functions will not be directly callable after loading.\n"
     ]
    },
    {
     "name": "stdout",
     "output_type": "stream",
     "text": [
      "INFO:tensorflow:Assets written to: results/input_dim_2_False_sgd/trial_2/models/model_18\\assets\n"
     ]
    },
    {
     "name": "stderr",
     "output_type": "stream",
     "text": [
      "INFO:tensorflow:Assets written to: results/input_dim_2_False_sgd/trial_2/models/model_18\\assets\n"
     ]
    }
   ],
   "source": [
    "perturbation_experiment(trial_number=2, input_dimension=2)"
   ]
  },
  {
   "cell_type": "code",
   "execution_count": null,
   "id": "09a85070",
   "metadata": {},
   "outputs": [],
   "source": []
  }
 ],
 "metadata": {
  "kernelspec": {
   "display_name": "Python 3 (ipykernel)",
   "language": "python",
   "name": "python3"
  },
  "language_info": {
   "codemirror_mode": {
    "name": "ipython",
    "version": 3
   },
   "file_extension": ".py",
   "mimetype": "text/x-python",
   "name": "python",
   "nbconvert_exporter": "python",
   "pygments_lexer": "ipython3",
   "version": "3.10.9"
  }
 },
 "nbformat": 4,
 "nbformat_minor": 5
}
